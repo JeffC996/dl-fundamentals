{
 "cells": [
  {
   "cell_type": "markdown",
   "id": "d71bce70-9dc3-448b-9f9a-8896e83b6d09",
   "metadata": {},
   "source": [
    "# Exercise 3: Use a learning rate for updating the weights and bias unit"
   ]
  },
  {
   "cell_type": "markdown",
   "id": "e5b48fc7-4f46-4d5a-8558-cd06892aaa27",
   "metadata": {},
   "source": [
    "## 1) Installing Libraries"
   ]
  },
  {
   "cell_type": "code",
   "execution_count": 402,
   "id": "be1f5a9a-b3ee-424b-ab02-4371f49bd786",
   "metadata": {
    "ExecuteTime": {
     "end_time": "2025-01-23T17:29:22.363017Z",
     "start_time": "2025-01-23T17:29:22.292843Z"
    }
   },
   "outputs": [],
   "source": [
    "# !conda install numpy pandas matplotlib --yes"
   ]
  },
  {
   "cell_type": "code",
   "execution_count": 403,
   "id": "79dd2077-ba5c-4ab5-95fc-6ee4d8a9f811",
   "metadata": {
    "ExecuteTime": {
     "end_time": "2025-01-23T17:29:22.365682Z",
     "start_time": "2025-01-23T17:29:22.295205Z"
    }
   },
   "outputs": [],
   "source": [
    "# !conda install watermark"
   ]
  },
  {
   "cell_type": "code",
   "execution_count": 404,
   "id": "bc4fa295-5c62-4888-bcf8-d07d6a7afc47",
   "metadata": {
    "ExecuteTime": {
     "end_time": "2025-01-23T17:29:22.422437Z",
     "start_time": "2025-01-23T17:29:22.298723Z"
    }
   },
   "outputs": [
    {
     "name": "stdout",
     "output_type": "stream",
     "text": [
      "The watermark extension is already loaded. To reload it, use:\n",
      "  %reload_ext watermark\n",
      "Python implementation: CPython\n",
      "Python version       : 3.11.7\n",
      "IPython version      : 8.20.0\n",
      "\n",
      "numpy     : 1.26.4\n",
      "pandas    : 2.2.3\n",
      "matplotlib: 3.10.0\n"
     ]
    }
   ],
   "source": [
    "%load_ext watermark\n",
    "%watermark -v -p numpy,pandas,matplotlib"
   ]
  },
  {
   "cell_type": "markdown",
   "id": "b9549676-2fa5-41a7-bbb9-ce03f5797c34",
   "metadata": {},
   "source": [
    "## 2) Loading the Dataset"
   ]
  },
  {
   "cell_type": "code",
   "execution_count": 405,
   "id": "f609024c-3eae-4ad5-8cb8-b95b403b7606",
   "metadata": {
    "ExecuteTime": {
     "end_time": "2025-01-23T17:29:22.424661Z",
     "start_time": "2025-01-23T17:29:22.306104Z"
    }
   },
   "outputs": [
    {
     "data": {
      "text/plain": "      x1    x2  label\n0   0.77 -1.14      0\n1  -0.33  1.44      0\n2   0.91 -3.07      0\n3  -0.37 -1.91      0\n4  -0.63 -1.53      0\n5   0.39 -1.99      0\n6  -0.49 -2.74      0\n7  -0.68 -1.52      0\n8  -0.10 -3.43      0\n9  -0.05 -1.95      0\n10  3.88  0.65      1\n11  0.73  2.97      1\n12  0.83  3.94      1\n13  1.59  1.25      1\n14  1.14  3.91      1\n15  1.73  2.80      1\n16  1.31  1.85      1\n17  1.56  3.85      1\n18  1.23  2.54      1\n19  1.33  2.03      1",
      "text/html": "<div>\n<style scoped>\n    .dataframe tbody tr th:only-of-type {\n        vertical-align: middle;\n    }\n\n    .dataframe tbody tr th {\n        vertical-align: top;\n    }\n\n    .dataframe thead th {\n        text-align: right;\n    }\n</style>\n<table border=\"1\" class=\"dataframe\">\n  <thead>\n    <tr style=\"text-align: right;\">\n      <th></th>\n      <th>x1</th>\n      <th>x2</th>\n      <th>label</th>\n    </tr>\n  </thead>\n  <tbody>\n    <tr>\n      <th>0</th>\n      <td>0.77</td>\n      <td>-1.14</td>\n      <td>0</td>\n    </tr>\n    <tr>\n      <th>1</th>\n      <td>-0.33</td>\n      <td>1.44</td>\n      <td>0</td>\n    </tr>\n    <tr>\n      <th>2</th>\n      <td>0.91</td>\n      <td>-3.07</td>\n      <td>0</td>\n    </tr>\n    <tr>\n      <th>3</th>\n      <td>-0.37</td>\n      <td>-1.91</td>\n      <td>0</td>\n    </tr>\n    <tr>\n      <th>4</th>\n      <td>-0.63</td>\n      <td>-1.53</td>\n      <td>0</td>\n    </tr>\n    <tr>\n      <th>5</th>\n      <td>0.39</td>\n      <td>-1.99</td>\n      <td>0</td>\n    </tr>\n    <tr>\n      <th>6</th>\n      <td>-0.49</td>\n      <td>-2.74</td>\n      <td>0</td>\n    </tr>\n    <tr>\n      <th>7</th>\n      <td>-0.68</td>\n      <td>-1.52</td>\n      <td>0</td>\n    </tr>\n    <tr>\n      <th>8</th>\n      <td>-0.10</td>\n      <td>-3.43</td>\n      <td>0</td>\n    </tr>\n    <tr>\n      <th>9</th>\n      <td>-0.05</td>\n      <td>-1.95</td>\n      <td>0</td>\n    </tr>\n    <tr>\n      <th>10</th>\n      <td>3.88</td>\n      <td>0.65</td>\n      <td>1</td>\n    </tr>\n    <tr>\n      <th>11</th>\n      <td>0.73</td>\n      <td>2.97</td>\n      <td>1</td>\n    </tr>\n    <tr>\n      <th>12</th>\n      <td>0.83</td>\n      <td>3.94</td>\n      <td>1</td>\n    </tr>\n    <tr>\n      <th>13</th>\n      <td>1.59</td>\n      <td>1.25</td>\n      <td>1</td>\n    </tr>\n    <tr>\n      <th>14</th>\n      <td>1.14</td>\n      <td>3.91</td>\n      <td>1</td>\n    </tr>\n    <tr>\n      <th>15</th>\n      <td>1.73</td>\n      <td>2.80</td>\n      <td>1</td>\n    </tr>\n    <tr>\n      <th>16</th>\n      <td>1.31</td>\n      <td>1.85</td>\n      <td>1</td>\n    </tr>\n    <tr>\n      <th>17</th>\n      <td>1.56</td>\n      <td>3.85</td>\n      <td>1</td>\n    </tr>\n    <tr>\n      <th>18</th>\n      <td>1.23</td>\n      <td>2.54</td>\n      <td>1</td>\n    </tr>\n    <tr>\n      <th>19</th>\n      <td>1.33</td>\n      <td>2.03</td>\n      <td>1</td>\n    </tr>\n  </tbody>\n</table>\n</div>"
     },
     "execution_count": 405,
     "metadata": {},
     "output_type": "execute_result"
    }
   ],
   "source": [
    "import pandas as pd\n",
    "\n",
    "df = pd.read_csv(\"perceptron_toydata-truncated.txt\", sep=\"\\t\")\n",
    "df"
   ]
  },
  {
   "cell_type": "code",
   "execution_count": 406,
   "id": "319546d0-e9ed-4542-873e-395edc05ef2f",
   "metadata": {
    "ExecuteTime": {
     "end_time": "2025-01-23T17:29:22.441162Z",
     "start_time": "2025-01-23T17:29:22.314943Z"
    }
   },
   "outputs": [],
   "source": [
    "X_train = df[[\"x1\", \"x2\"]].values\n",
    "y_train = df[\"label\"].values"
   ]
  },
  {
   "cell_type": "code",
   "execution_count": 407,
   "id": "71792068-9926-41bb-81c0-2a46f6e956fc",
   "metadata": {
    "ExecuteTime": {
     "end_time": "2025-01-23T17:29:22.446706Z",
     "start_time": "2025-01-23T17:29:22.317202Z"
    }
   },
   "outputs": [
    {
     "data": {
      "text/plain": "array([[ 0.77, -1.14],\n       [-0.33,  1.44],\n       [ 0.91, -3.07],\n       [-0.37, -1.91],\n       [-0.63, -1.53],\n       [ 0.39, -1.99],\n       [-0.49, -2.74],\n       [-0.68, -1.52],\n       [-0.1 , -3.43],\n       [-0.05, -1.95],\n       [ 3.88,  0.65],\n       [ 0.73,  2.97],\n       [ 0.83,  3.94],\n       [ 1.59,  1.25],\n       [ 1.14,  3.91],\n       [ 1.73,  2.8 ],\n       [ 1.31,  1.85],\n       [ 1.56,  3.85],\n       [ 1.23,  2.54],\n       [ 1.33,  2.03]])"
     },
     "execution_count": 407,
     "metadata": {},
     "output_type": "execute_result"
    }
   ],
   "source": [
    "X_train"
   ]
  },
  {
   "cell_type": "code",
   "execution_count": 408,
   "id": "f2571853-0be0-48b2-9985-8a6021d01276",
   "metadata": {
    "ExecuteTime": {
     "end_time": "2025-01-23T17:29:22.447586Z",
     "start_time": "2025-01-23T17:29:22.319618Z"
    }
   },
   "outputs": [
    {
     "data": {
      "text/plain": "(20, 2)"
     },
     "execution_count": 408,
     "metadata": {},
     "output_type": "execute_result"
    }
   ],
   "source": [
    "X_train.shape"
   ]
  },
  {
   "cell_type": "code",
   "execution_count": 409,
   "id": "3a5e5ffb-1bca-4f1b-b4cf-a78be1b07753",
   "metadata": {
    "ExecuteTime": {
     "end_time": "2025-01-23T17:29:22.447681Z",
     "start_time": "2025-01-23T17:29:22.321791Z"
    }
   },
   "outputs": [
    {
     "data": {
      "text/plain": "array([0, 0, 0, 0, 0, 0, 0, 0, 0, 0, 1, 1, 1, 1, 1, 1, 1, 1, 1, 1])"
     },
     "execution_count": 409,
     "metadata": {},
     "output_type": "execute_result"
    }
   ],
   "source": [
    "y_train"
   ]
  },
  {
   "cell_type": "code",
   "execution_count": 410,
   "id": "68bfbbf9-4fed-4111-8391-15f2b338d8b4",
   "metadata": {
    "ExecuteTime": {
     "end_time": "2025-01-23T17:29:22.448680Z",
     "start_time": "2025-01-23T17:29:22.324541Z"
    }
   },
   "outputs": [
    {
     "data": {
      "text/plain": "(20,)"
     },
     "execution_count": 410,
     "metadata": {},
     "output_type": "execute_result"
    }
   ],
   "source": [
    "y_train.shape"
   ]
  },
  {
   "cell_type": "code",
   "execution_count": 411,
   "id": "b6800df4-98f6-401e-bb6c-9964c3b6e3cb",
   "metadata": {
    "ExecuteTime": {
     "end_time": "2025-01-23T17:29:22.448764Z",
     "start_time": "2025-01-23T17:29:22.326956Z"
    }
   },
   "outputs": [
    {
     "data": {
      "text/plain": "array([10, 10])"
     },
     "execution_count": 411,
     "metadata": {},
     "output_type": "execute_result"
    }
   ],
   "source": [
    "import numpy as np\n",
    "\n",
    "np.bincount(y_train)"
   ]
  },
  {
   "cell_type": "markdown",
   "id": "fc4663a6-e8a7-472e-b9b0-c64f546a85e9",
   "metadata": {},
   "source": [
    "## 3) Visualizing the dataset"
   ]
  },
  {
   "cell_type": "code",
   "execution_count": 412,
   "id": "36a879c3-0c84-4476-a79a-f41d897c696a",
   "metadata": {
    "ExecuteTime": {
     "end_time": "2025-01-23T17:29:22.449209Z",
     "start_time": "2025-01-23T17:29:22.329586Z"
    }
   },
   "outputs": [],
   "source": [
    "%matplotlib inline\n",
    "import matplotlib.pyplot as plt"
   ]
  },
  {
   "cell_type": "code",
   "execution_count": 413,
   "id": "bd31bb2e-5699-43d4-8874-38e9307ce853",
   "metadata": {
    "ExecuteTime": {
     "end_time": "2025-01-23T17:29:22.451285Z",
     "start_time": "2025-01-23T17:29:22.338447Z"
    }
   },
   "outputs": [
    {
     "data": {
      "text/plain": "<Figure size 640x480 with 1 Axes>",
      "image/png": "[encoded data removed]"
     },
     "metadata": {},
     "output_type": "display_data"
    }
   ],
   "source": [
    "plt.plot(\n",
    "    X_train[y_train == 0, 0],\n",
    "    X_train[y_train == 0, 1],\n",
    "    marker=\"D\",\n",
    "    markersize=10,\n",
    "    linestyle=\"\",\n",
    "    label=\"Class 0\",\n",
    ")\n",
    "\n",
    "plt.plot(\n",
    "    X_train[y_train == 1, 0],\n",
    "    X_train[y_train == 1, 1],\n",
    "    marker=\"^\",\n",
    "    markersize=13,\n",
    "    linestyle=\"\",\n",
    "    label=\"Class 1\",\n",
    ")\n",
    "\n",
    "plt.legend(loc=2)\n",
    "\n",
    "plt.xlim([-5, 5])\n",
    "plt.ylim([-5, 5])\n",
    "\n",
    "plt.xlabel(\"Feature $x_1$\", fontsize=12)\n",
    "plt.ylabel(\"Feature $x_2$\", fontsize=12)\n",
    "\n",
    "plt.grid()\n",
    "plt.show()"
   ]
  },
  {
   "cell_type": "markdown",
   "id": "db50db02-3696-4f86-b149-74baabeec6c4",
   "metadata": {},
   "source": [
    "## 4) Implementing the Perceptron"
   ]
  },
  {
   "cell_type": "code",
   "execution_count": 414,
   "id": "8f3b0412-fd38-47d4-9fd3-c1603fbc00b9",
   "metadata": {
    "ExecuteTime": {
     "end_time": "2025-01-23T17:29:22.451415Z",
     "start_time": "2025-01-23T17:29:22.389987Z"
    }
   },
   "outputs": [
    {
     "data": {
      "text/plain": "-0.16620360537104473"
     },
     "execution_count": 414,
     "metadata": {},
     "output_type": "execute_result"
    }
   ],
   "source": [
    "import random\n",
    "\n",
    "random.uniform(-0.5, 0.5)"
   ]
  },
  {
   "cell_type": "markdown",
   "id": "90c6ae5d-6e69-4f3b-a160-3fdb96b467ac",
   "metadata": {},
   "source": [
    "# <font color='red'>Exercise 3.1</font>\n",
    "\n",
    "<font color='red'>Modify the Perceptron class below such that it uses a so-called *learning rate* for updating the weights and bias unit. The learning rate, let's call it `alpha` is a positive float that scales the weight update. I.e., in the code below, multiply the bias and weight update by a variable `alpha` which defaults to 1.0. (Hint: don't forget to modify the `__init__` method such that it accepts different values for `alpha`.</font>"
   ]
  },
  {
   "cell_type": "code",
   "execution_count": 415,
   "id": "62d20409-bac5-45be-967e-a2260eb715f1",
   "metadata": {
    "ExecuteTime": {
     "end_time": "2025-01-23T17:29:22.451515Z",
     "start_time": "2025-01-23T17:29:22.395673Z"
    }
   },
   "outputs": [],
   "source": [
    "class Perceptron:\n",
    "    def __init__(self, num_features,alpha=1):\n",
    "        random.seed(123) \n",
    "        self.num_features = num_features\n",
    "        # initializes the weights unit to random number\n",
    "        self.weights = [random.uniform(-0.5, 0.5) for _ in range(num_features)]\n",
    "        # initializes the bias unit to random number\n",
    "        self.bias = random.uniform(-0.5, 0.5)\n",
    "        self.alpha = alpha  # Learning rate\n",
    "\n",
    "    def forward(self, x):\n",
    "        weighted_sum_z = self.bias\n",
    "        for i in range(self.num_features):\n",
    "            weighted_sum_z += x[i] * self.weights[i]\n",
    "\n",
    "        if weighted_sum_z > 0.0:\n",
    "            prediction = 1\n",
    "        else:\n",
    "            prediction = 0\n",
    "\n",
    "        return prediction\n",
    "\n",
    "    def update(self, x, true_y):\n",
    "        prediction = self.forward(x)\n",
    "        error = true_y - prediction\n",
    "        # adding alpha here\n",
    "        self.bias += self.alpha * error\n",
    "        for i in range(self.num_features):\n",
    "            self.weights[i] += self.alpha * error * x[i]\n",
    "\n",
    "        return error"
   ]
  },
  {
   "cell_type": "code",
   "execution_count": 416,
   "id": "f488858e-7315-4343-9133-03ec98fbc6f2",
   "metadata": {
    "ExecuteTime": {
     "end_time": "2025-01-23T17:29:22.451560Z",
     "start_time": "2025-01-23T17:29:22.398418Z"
    }
   },
   "outputs": [],
   "source": [
    "def train(model, all_x, all_y, epochs):\n",
    "    for epoch in range(epochs):\n",
    "        error_count = 0\n",
    "\n",
    "        for x, y in zip(all_x, all_y):\n",
    "            error = model.update(x, y)\n",
    "            error_count += abs(error)\n",
    "\n",
    "        print(f\"Epoch {epoch+1}: {error_count} errors\")"
   ]
  },
  {
   "cell_type": "markdown",
   "id": "db968d66-8d9c-4f09-bc94-68c270e62a43",
   "metadata": {},
   "source": [
    "# <font color='red'>Exercise 3.2</font>\n",
    "\n",
    "<font color='red'>Now, modify the code below to train the perceptron with a learning rate of `alpha=1.0`. Since we are multiplying the weight and bias update by 1.0, we should get exactly the same results as in the original code.</font>"
   ]
  },
  {
   "cell_type": "code",
   "execution_count": 417,
   "id": "036bd985-5ac3-48cb-ac1f-0b466d8b51f7",
   "metadata": {
    "ExecuteTime": {
     "end_time": "2025-01-23T17:29:22.451639Z",
     "start_time": "2025-01-23T17:29:22.401197Z"
    }
   },
   "outputs": [
    {
     "name": "stdout",
     "output_type": "stream",
     "text": [
      "Epoch 1: 2 errors\n",
      "Epoch 2: 2 errors\n",
      "Epoch 3: 0 errors\n",
      "Epoch 4: 0 errors\n",
      "Epoch 5: 0 errors\n"
     ]
    }
   ],
   "source": [
    "ppn = Perceptron(num_features=2, alpha=0.5)\n",
    "\n",
    "train(model=ppn, all_x=X_train, all_y=y_train, epochs=5)\n",
    "\n",
    "#Exercise 3.2 + #Exercise 3.3: the perceptron stays the same because the learning rate is 1\n",
    "\n",
    "#Exercise 3.4: the outcome is the same for learning rate = 1 and 0.5.\n",
    "\n",
    "#Exercise 3.5: the outcome changes from \"Epoch 1: 4 errors, Epoch 2: 1 errors\" to \"Epoch 1: 2 errors, Epoch 2: 2 errors\" which is pretty interesting. It still takes 2 Epoch but the numbers of errors it got in each Epoch are different."
   ]
  },
  {
   "cell_type": "markdown",
   "id": "26690d7f-e842-4558-80d9-a587b8db6017",
   "metadata": {},
   "source": [
    "# <font color='red'>Exercise 3.3</font>\n",
    "\n",
    "<font color='red'>What do you observe? Does the perceptron train better or worse?</font>"
   ]
  },
  {
   "cell_type": "markdown",
   "id": "2e4a2c3b-8b38-4511-8cc3-0d4334058899",
   "metadata": {},
   "source": [
    "# <font color='red'>Exercise 3.4</font>\n",
    "\n",
    "<font color='red'>\n",
    "Now, change the learning rate from `alpha=1.0` to `alpha=0.5` and train the perceptron again. What do you observe?\n",
    "</font>\n"
   ]
  },
  {
   "cell_type": "markdown",
   "id": "e61fc437-eb9d-4cca-b48c-7b03a2c99e51",
   "metadata": {},
   "source": [
    "# <font color='red'>Exercise 3.5</font>\n",
    "\n",
    "<font color='red'>\n",
    "Next, update the Perceptron code with small random weights (solution of exercise 2). \n",
    "</font>\n",
    "\n",
    "<br>\n",
    "\n",
    "<font color='red'>\n",
    "Then, train the perceptron again with a learning rate of 1.0 and 0.5 and compare the results.\n",
    "</font>"
   ]
  },
  {
   "cell_type": "markdown",
   "id": "bb0d5821-7c8d-46b5-9e7d-02e72cac2acc",
   "metadata": {},
   "source": [
    "## 5) Evaluating the results"
   ]
  },
  {
   "cell_type": "code",
   "execution_count": 418,
   "id": "d910ddbb-798f-47ab-8aab-e2dba4aa4005",
   "metadata": {
    "ExecuteTime": {
     "end_time": "2025-01-23T17:29:22.451676Z",
     "start_time": "2025-01-23T17:29:22.403641Z"
    }
   },
   "outputs": [],
   "source": [
    "def compute_accuracy(model, all_x, all_y):\n",
    "\n",
    "    correct = 0.0\n",
    "\n",
    "    for x, y in zip(all_x, all_y):\n",
    "        prediction = model.forward(x)\n",
    "        correct += int(prediction == y)\n",
    "\n",
    "    return correct / len(all_y)"
   ]
  },
  {
   "cell_type": "code",
   "execution_count": 419,
   "id": "27538c8d-61bc-47b0-8289-b6aab4aa16ed",
   "metadata": {
    "ExecuteTime": {
     "end_time": "2025-01-23T17:29:22.451752Z",
     "start_time": "2025-01-23T17:29:22.405995Z"
    }
   },
   "outputs": [
    {
     "data": {
      "text/plain": "1.0"
     },
     "execution_count": 419,
     "metadata": {},
     "output_type": "execute_result"
    }
   ],
   "source": [
    "train_acc = compute_accuracy(ppn, X_train, y_train)\n",
    "train_acc"
   ]
  },
  {
   "cell_type": "code",
   "execution_count": 420,
   "id": "5a4ecf35-4745-43a8-8ea8-14f71cba5b59",
   "metadata": {
    "ExecuteTime": {
     "end_time": "2025-01-23T17:29:22.451822Z",
     "start_time": "2025-01-23T17:29:22.408442Z"
    }
   },
   "outputs": [
    {
     "name": "stdout",
     "output_type": "stream",
     "text": [
      "Accuracy: 100.0%\n"
     ]
    }
   ],
   "source": [
    "print(f\"Accuracy: {train_acc*100}%\")"
   ]
  },
  {
   "cell_type": "markdown",
   "id": "fbcd412a-02c0-4d2c-835e-4b01368f53f8",
   "metadata": {},
   "source": [
    "## 6) Optional: Visualizing the Decision Boundary"
   ]
  },
  {
   "cell_type": "code",
   "execution_count": 421,
   "id": "a76bb67c-358c-4e91-a5c7-5456333827aa",
   "metadata": {
    "ExecuteTime": {
     "end_time": "2025-01-23T17:29:22.571852Z",
     "start_time": "2025-01-23T17:29:22.423672Z"
    }
   },
   "outputs": [
    {
     "data": {
      "text/plain": "<Figure size 640x480 with 1 Axes>",
      "image/png": "[encoded data removed]"
     },
     "metadata": {},
     "output_type": "display_data"
    }
   ],
   "source": [
    "plt.plot(\n",
    "    X_train[y_train == 0, 0],\n",
    "    X_train[y_train == 0, 1],\n",
    "    marker=\"D\",\n",
    "    markersize=10,\n",
    "    linestyle=\"\",\n",
    "    label=\"Class 0\",\n",
    ")\n",
    "\n",
    "plt.plot(\n",
    "    X_train[y_train == 1, 0],\n",
    "    X_train[y_train == 1, 1],\n",
    "    marker=\"^\",\n",
    "    markersize=13,\n",
    "    linestyle=\"\",\n",
    "    label=\"Class 1\",\n",
    ")\n",
    "\n",
    "plt.legend(loc=2)\n",
    "\n",
    "plt.xlim([-5, 5])\n",
    "plt.ylim([-5, 5])\n",
    "\n",
    "plt.xlabel(\"Feature $x_1$\", fontsize=12)\n",
    "plt.ylabel(\"Feature $x_2$\", fontsize=12)\n",
    "\n",
    "plt.grid()\n",
    "plt.show()"
   ]
  },
  {
   "cell_type": "code",
   "execution_count": 422,
   "id": "5d9f1813-d232-4a7d-aebc-cfd5303fae48",
   "metadata": {
    "ExecuteTime": {
     "end_time": "2025-01-23T17:29:22.572014Z",
     "start_time": "2025-01-23T17:29:22.468350Z"
    }
   },
   "outputs": [],
   "source": [
    "def plot_boundary(model):\n",
    "\n",
    "    w1, w2 = model.weights[0], model.weights[1]\n",
    "    b = model.bias\n",
    "\n",
    "    x1_min = -20\n",
    "    x2_min = (-(w1 * x1_min) - b) / w2\n",
    "\n",
    "    x1_max = 20\n",
    "    x2_max = (-(w1 * x1_max) - b) / w2\n",
    "\n",
    "    return x1_min, x1_max, x2_min, x2_max"
   ]
  },
  {
   "cell_type": "code",
   "execution_count": 423,
   "id": "2d71b5df-dd8d-41d5-b6fd-640d6f40d5a2",
   "metadata": {
    "ExecuteTime": {
     "end_time": "2025-01-23T17:29:22.652832Z",
     "start_time": "2025-01-23T17:29:22.472139Z"
    }
   },
   "outputs": [
    {
     "data": {
      "text/plain": "<Figure size 640x480 with 1 Axes>",
      "image/png": "[encoded data removed]"
     },
     "metadata": {},
     "output_type": "display_data"
    }
   ],
   "source": [
    "x1_min, x1_max, x2_min, x2_max = plot_boundary(ppn)\n",
    "\n",
    "\n",
    "plt.plot(\n",
    "    X_train[y_train == 0, 0],\n",
    "    X_train[y_train == 0, 1],\n",
    "    marker=\"D\",\n",
    "    markersize=10,\n",
    "    linestyle=\"\",\n",
    "    label=\"Class 0\",\n",
    ")\n",
    "\n",
    "plt.plot(\n",
    "    X_train[y_train == 1, 0],\n",
    "    X_train[y_train == 1, 1],\n",
    "    marker=\"^\",\n",
    "    markersize=13,\n",
    "    linestyle=\"\",\n",
    "    label=\"Class 1\",\n",
    ")\n",
    "\n",
    "plt.plot([x1_min, x1_max], [x2_min, x2_max], color=\"k\")\n",
    "\n",
    "plt.legend(loc=2)\n",
    "\n",
    "plt.xlim([-5, 5])\n",
    "plt.ylim([-5, 5])\n",
    "\n",
    "plt.xlabel(\"Feature $x_1$\", fontsize=12)\n",
    "plt.ylabel(\"Feature $x_2$\", fontsize=12)\n",
    "\n",
    "plt.grid()\n",
    "plt.show()"
   ]
  }
 ],
 "metadata": {
  "kernelspec": {
   "display_name": "Python 3 (ipykernel)",
   "language": "python",
   "name": "python3"
  },
  "language_info": {
   "codemirror_mode": {
    "name": "ipython",
    "version": 3
   },
   "file_extension": ".py",
   "mimetype": "text/x-python",
   "name": "python",
   "nbconvert_exporter": "python",
   "pygments_lexer": "ipython3",
   "version": "3.9.7"
  }
 },
 "nbformat": 4,
 "nbformat_minor": 5
}
